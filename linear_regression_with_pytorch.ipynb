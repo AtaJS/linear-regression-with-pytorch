{
  "cells": [
    {
      "cell_type": "markdown",
      "metadata": {},
      "source": [
        "# Deep Learning Project: Linear Regression with PyTorch"
      ]
    },
    {
      "cell_type": "markdown",
      "metadata": {},
      "source": [
        "## Project Overview\n",
        "\n",
        "This project guides you through the process of building and training a linear regression model using PyTorch. We will cover the following steps:\n",
        "\n",
        "1.  **Data Loading and Preparation:** Load the advertising dataset and split it into training and testing sets.\n",
        "2.  **Model Definition:**  Create a custom PyTorch model for linear regression.\n",
        "3.  **Model Training:** Train the model using gradient descent.\n",
        "4.  **Visualization:**  Visualize the data, loss function, and the trained linear model.\n",
        "\n",
        "**Dataset:**  Advertising dataset (advertising.csv) containing TV, Radio, and Newspaper advertisement spending, and the resulting Sales."
      ]
    },
    {
      "cell_type": "markdown",
      "metadata": {},
      "source": [
        "## Step 1: Data Loading and Preparation\n",
        "\n",
        "We'll begin by loading the advertising dataset, which contains information about advertisement spending on TV, radio, and newspapers, along with the corresponding sales figures. Our goal is to predict sales based on advertisement spending, and we'll assume a linear relationship between these variables.\n",
        "\n",
        "The dataset is in a CSV file named `advertising.csv`.  We'll use the pandas library to load it into a DataFrame.  Then, we will convert the relevant columns into PyTorch tensors and split the data into training (80%) and testing (20%) sets. Finally we plot the data."
      ]
    },
    {
      "cell_type": "code",
      "execution_count": 1,
      "metadata": {},
      "outputs": [
        {
          "data": {
            "text/html": [
              "<div>\n",
              "<style scoped>\n",
              "    .dataframe tbody tr th:only-of-type {\n",
              "        vertical-align: middle;\n",
              "    }\n",
              "\n",
              "    .dataframe tbody tr th {\n",
              "        vertical-align: top;\n",
              "    }\n",
              "\n",
              "    .dataframe thead th {\n",
              "        text-align: right;\n",
              "    }\n",
              "</style>\n",
              "<table border=\"1\" class=\"dataframe\">\n",
              "  <thead>\n",
              "    <tr style=\"text-align: right;\">\n",
              "      <th></th>\n",
              "      <th>TV</th>\n",
              "      <th>Radio</th>\n",
              "      <th>Newspaper</th>\n",
              "      <th>Sales</th>\n",
              "    </tr>\n",
              "  </thead>\n",
              "  <tbody>\n",
              "    <tr>\n",
              "      <th>0</th>\n",
              "      <td>230.1</td>\n",
              "      <td>37.8</td>\n",
              "      <td>69.2</td>\n",
              "      <td>22.1</td>\n",
              "    </tr>\n",
              "    <tr>\n",
              "      <th>1</th>\n",
              "      <td>44.5</td>\n",
              "      <td>39.3</td>\n",
              "      <td>45.1</td>\n",
              "      <td>10.4</td>\n",
              "    </tr>\n",
              "    <tr>\n",
              "      <th>2</th>\n",
              "      <td>17.2</td>\n",
              "      <td>45.9</td>\n",
              "      <td>69.3</td>\n",
              "      <td>12.0</td>\n",
              "    </tr>\n",
              "    <tr>\n",
              "      <th>3</th>\n",
              "      <td>151.5</td>\n",
              "      <td>41.3</td>\n",
              "      <td>58.5</td>\n",
              "      <td>16.5</td>\n",
              "    </tr>\n",
              "    <tr>\n",
              "      <th>4</th>\n",
              "      <td>180.8</td>\n",
              "      <td>10.8</td>\n",
              "      <td>58.4</td>\n",
              "      <td>17.9</td>\n",
              "    </tr>\n",
              "  </tbody>\n",
              "</table>\n",
              "</div>"
            ],
            "text/plain": [
              "      TV  Radio  Newspaper  Sales\n",
              "0  230.1   37.8       69.2   22.1\n",
              "1   44.5   39.3       45.1   10.4\n",
              "2   17.2   45.9       69.3   12.0\n",
              "3  151.5   41.3       58.5   16.5\n",
              "4  180.8   10.8       58.4   17.9"
            ]
          },
          "execution_count": 1,
          "metadata": {},
          "output_type": "execute_result"
        }
      ],
      "source": [
        "import pandas as pd\n",
        "\n",
        "# Read the advertising.csv file from the same folder as the .ipynb file\n",
        "df = pd.read_csv('advertising.csv')\n",
        "\n",
        "# Display the first few rows of the dataframe to verify\n",
        "df.head()"
      ]
    },
    {
      "cell_type": "code",
      "execution_count": null,
      "metadata": {},
      "outputs": [],
      "source": [
        "import matplotlib.pyplot as plt\n",
        "import torch.nn as nn\n",
        "import torch\n",
        "import numpy as np\n",
        "import pandas as pd\n",
        "\n",
        "adv_dataset=pd.read_csv('./advertising.csv')\n",
        "adv_dataset.head()"
      ]
    },
    {
      "cell_type": "code",
      "execution_count": null,
      "metadata": {},
      "outputs": [],
      "source": [
        "# Extract feature variables and target variable\n",
        "features = adv_dataset[['TV', 'Radio', 'Newspaper']].values\n",
        "target = adv_dataset['Sales'].values\n",
        "\n",
        "# Convert to PyTorch Tensors\n",
        "x = torch.tensor(features, dtype=torch.float32)\n",
        "y = torch.tensor(target, dtype=torch.float32)\n",
        "\n",
        "print(x.size(),y.size())\n",
        "\n",
        "from sklearn.model_selection import train_test_split\n",
        "x_train, x_test, y_train, y_test = train_test_split(x, y, test_size=0.2, random_state=50)\n",
        "\n",
        "print(x_train.size(),y_train.size())\n",
        "print(x_test.size(),y_test.size())\n",
        "\n",
        "# Plot the first feature 'TV' in relationship with the target 'y'\n",
        "plt.figure(figsize=(10, 6))\n",
        "# Plot training data\n",
        "plt.scatter(x_train[:, 0], y_train, color='green', label='Train data(%80)', s=5)\n",
        "# Plot testing data\n",
        "plt.scatter(x_test[:, 0], y_test, color='red', label='Test data(%20)', s=20)\n",
        "plt.xlabel('TV Ads')\n",
        "plt.ylabel('Sales')\n",
        "plt.title('TV Ads Expenditure Vs. Sales')\n",
        "plt.legend()\n",
        "plt.show()"
      ]
    },
    {
      "cell_type": "markdown",
      "metadata": {},
      "source": [
        "## Step 2: Model Definition\n",
        "\n",
        "Now, we'll define our linear regression model as a PyTorch module.  This involves creating a class that inherits from `nn.Module` and implementing the `__init__` and `forward` methods.\n",
        "\n",
        "Our linear model will have the form:\n",
        "\n",
        "$$y = w^T x + b$$\n",
        "\n",
        "where:\n",
        "*   $y$ is the predicted output (Sales).\n",
        "*   $x$ is the input feature vector (TV, Radio, Newspaper).\n",
        "*   $w$ is the weight vector (a single tensor, not three separate weights).\n",
        "*   $b$ is the bias term (a single tensor).\n",
        "We do not use the ready to use nn.Linear() layer and want to write it ourselves."
      ]
    },
    {
      "cell_type": "code",
      "execution_count": null,
      "metadata": {},
      "outputs": [],
      "source": [
        "import torch.nn as nn\n",
        "\n",
        "class LinearRegressionModel(nn.Module):\n",
        "    def __init__(self):\n",
        "        super(LinearRegressionModel, self).__init__()\n",
        "        self.weight = nn.Parameter(torch.rand(3))\n",
        "        self.bias = nn.Parameter(torch.rand(1))\n",
        "\n",
        "    def forward(self, x):\n",
        "        y_pre_Forward = torch.matmul(x, self.weight) + self.bias\n",
        "        return y_pre_Forward"
      ]
    },
    {
      "cell_type": "markdown",
      "metadata": {},
      "source": [
        "## Step 3: Model Training\n",
        "\n",
        "In this step, we'll train our linear regression model using the training data.  We'll use the following process:\n",
        "\n",
        "1.  **Initialization:** Create an instance of our `LinearRegressionModel`.\n",
        "2.  **Optimizer:** Choose an appropriate optimizer (e.g., Adam, SGD, RMSprop) and set a learning rate. We will be using Adam in this notebook. \n",
        "3.  **Loss Function:** Define a loss function to measure the difference between the model's predictions and the actual target values.  We'll use the Mean Absolute Error (MAE) loss:\n",
        "\n",
        "    $$loss = \\frac{1}{N} \\sum_{i=1}^{N} |f_i - y_i|$$\n",
        "\n",
        "    where $f_i$ is the model's output and $N$ is the number of training samples.\n",
        "4.  **Training Loop:** Iterate over the training data for a specified number of epochs/iterations:\n",
        "    *   Put the model into training mode\n",
        "    *   Perform a forward pass through the model to get predictions.\n",
        "    *   Calculate the loss.\n",
        "    *   Perform backpropagation to compute gradients.\n",
        "    *   Update the model's parameters using the optimizer.\n",
        "    *   Clear the gradients before the next iteration (`optimizer.zero_grad()`).\n",
        "    *   Put the model into evaluation mode\n",
        "    *   Evaluate the loss on testing data\n",
        "    *   Track training and testing losses."
      ]
    },
    {
      "cell_type": "code",
      "execution_count": null,
      "metadata": {
        "colab": {
          "base_uri": "https://localhost:8080/"
        },
        "id": "u_mTPbPCbqTd",
        "outputId": "177366ff-9341-4af8-acbc-70f774cff1db"
      },
      "outputs": [],
      "source": [
        "import torch.optim as optim\n",
        "\n",
        "# Create an instance of the model\n",
        "model = LinearRegressionModel()\n",
        "\n",
        "# Create an optimizer with a workable learning rate\n",
        "optimizer = optim.Adam(model.parameters(), lr=0.001)\n",
        "\n",
        "criterion = nn.MSELoss()\n",
        "\n",
        "training_losses = []\n",
        "testing_losses = []\n",
        "\n",
        "n_itr = 10000\n",
        "\n",
        "for i in range(n_itr):\n",
        "    # Train\n",
        "    model.train()  # change model to train mode\n",
        "\n",
        "    # calculate the output of the model\n",
        "    y_pred = model(x_train)\n",
        "    # calculate loss\n",
        "    Difference = torch.abs(y_pred - y_train)\n",
        "    loss = Difference.mean()\n",
        "\n",
        "    training_losses.append(loss.item())\n",
        "\n",
        "    # backward propagation (clear old gradients, calculate gradients, update parameters)\n",
        "    optimizer.zero_grad()\n",
        "    loss.backward()\n",
        "    optimizer.step()\n",
        "\n",
        "    # Evaluate, calculate the testing loss\n",
        "    model.eval()  # change model to eval mode\n",
        "\n",
        "    y_test_pred = model(x_test)\n",
        "    test_Diff = torch.abs(y_test_pred - y_test)\n",
        "    test_loss = test_Diff.mean()\n",
        "\n",
        "    testing_losses.append(test_loss.item())\n",
        "\n",
        "    # print intermediate losses for certain iterations\n",
        "    if i % 100 == 1:\n",
        "        print('Iteration: %04d | Training loss: %f | Testing loss: %f' %\n",
        "              (i, loss.data, test_loss.data))"
      ]
    },
    {
      "cell_type": "markdown",
      "metadata": {},
      "source": [
        "## Step 4: Visualization\n",
        "\n",
        "Finally, we'll visualize the results of our training:\n",
        "\n",
        "1.  **Loss Curves:** Plot the training and testing loss curves over the iterations. This helps us monitor the training process and check for overfitting (when the training loss decreases significantly while the testing loss plateaus or increases).\n",
        "2.  **Data and Model Plot:** Plot the training data, testing data, and the fitted regression line (using the learned weights and bias) on the same plot, focusing on the 'TV' feature for visualization."
      ]
    },
    {
      "cell_type": "code",
      "execution_count": null,
      "metadata": {},
      "outputs": [],
      "source": [
        "# plot the training losses and testing losses\n",
        "plt.figure(figsize=(10, 5))\n",
        "iterations = range(n_itr)\n",
        "plt.plot(iterations, training_losses, label='Train Loss', color='green')\n",
        "plt.plot(iterations, testing_losses, label='Test Loss', color='red')\n",
        "plt.xlabel('Iterations')\n",
        "plt.ylabel('Loss')\n",
        "plt.legend()\n",
        "plt.show()"
      ]
    },
    {
      "cell_type": "code",
      "execution_count": null,
      "metadata": {},
      "outputs": [],
      "source": [
        "# Extract the slope (weight) and intercept (bias) from the model\n",
        "slope = model.weight[0].item()\n",
        "intercept = model.bias.item()\n",
        "\n",
        "plt.figure(figsize=(10, 6))\n",
        "# Plot training data\n",
        "plt.scatter(x_train[:, 0], y_train, color='green', label='Train data(%80)', s=10)\n",
        "# Plot testing data\n",
        "plt.scatter(x_test[:, 0], y_test, color='red', label='Test data(%20)', s=20)\n",
        "# Plot the regression line\n",
        "x_vals = np.linspace(x_train[:, 0].min(), x_train[:, 0].max(), 100)\n",
        "y_vals = slope * x_vals + intercept\n",
        "plt.plot(x_vals, y_vals, color='blue', label='Regression Line')\n",
        "plt.xlabel('TV Ads')\n",
        "plt.ylabel('Sales')\n",
        "plt.title('TV Ads Expenditure Vs. Sales')\n",
        "plt.legend()\n",
        "plt.show()"
      ]
    }
  ],
  "metadata": {
    "colab": {
      "provenance": []
    },
    "kernelspec": {
      "display_name": "Python 3",
      "language": "python",
      "name": "python3"
    },
    "language_info": {
      "codemirror_mode": {
        "name": "ipython",
        "version": 3
      },
      "file_extension": ".py",
      "mimetype": "text/x-python",
      "name": "python",
      "nbconvert_exporter": "python",
      "pygments_lexer": "ipython3",
      "version": "3.12.9"
    }
  },
  "nbformat": 4,
  "nbformat_minor": 0
}
